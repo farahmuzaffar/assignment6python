{
  "cells": [
    {
      "cell_type": "markdown",
      "metadata": {
        "id": "view-in-github",
        "colab_type": "text"
      },
      "source": [
        "<a href=\"https://colab.research.google.com/github/farahmuzaffar/assignment6python/blob/main/assignment6.ipynb\" target=\"_parent\"><img src=\"https://colab.research.google.com/assets/colab-badge.svg\" alt=\"Open In Colab\"/></a>"
      ]
    },
    {
      "cell_type": "code",
      "execution_count": null,
      "metadata": {
        "colab": {
          "base_uri": "https://localhost:8080/"
        },
        "id": "7InXeHqjV0_5",
        "outputId": "805aaa2c-4268-42b8-dc75-6550c7716209"
      },
      "outputs": [
        {
          "name": "stdout",
          "output_type": "stream",
          "text": [
            "Name: Ali\n",
            "Marks: 88\n"
          ]
        }
      ],
      "source": [
        "# prompt: Create a class Student with attributes name and marks. Use the self keyword to initialize these values via a constructor. Add a method display() that prints student details.\n",
        "class Student:\n",
        "    def __init__(self, name, marks):\n",
        "        self.name = name\n",
        "        self.marks = marks\n",
        "\n",
        "    def display(self):\n",
        "      print(\"Name:\", self.name)\n",
        "      print(\"Marks:\", self.marks)\n",
        "student1 = Student(\"Ali\", 88)\n",
        "student1.display()\n"
      ]
    },
    {
      "cell_type": "code",
      "execution_count": null,
      "metadata": {
        "colab": {
          "base_uri": "https://localhost:8080/"
        },
        "id": "J38MlN1VcloJ",
        "outputId": "a6130c7e-bb77-4450-ea17-15c5b5b45fbd"
      },
      "outputs": [
        {
          "name": "stdout",
          "output_type": "stream",
          "text": [
            "Total objects created: 3\n"
          ]
        }
      ],
      "source": [
        "# Create a class Counter that keeps track of how many objects have been created. Use a class variable and a class method with cls to manage and display the count.\n",
        "\n",
        "class Counter:\n",
        "    # Class variable to keep track of the count\n",
        "    count = 0\n",
        "\n",
        "    def __init__(self):\n",
        "        # Increment the count when a new object is created\n",
        "        Counter.count += 1\n",
        "\n",
        "    # class method\n",
        "    @classmethod\n",
        "    def get_count(cls):\n",
        "        # Class method to display the current count\n",
        "        return cls.count\n",
        "\n",
        "# Example usage\n",
        "obj1 = Counter()\n",
        "obj2 = Counter()\n",
        "obj3 = Counter()\n",
        "\n",
        "print(\"Total objects created:\", Counter.get_count())\n"
      ]
    },
    {
      "cell_type": "code",
      "execution_count": null,
      "metadata": {
        "colab": {
          "base_uri": "https://localhost:8080/"
        },
        "id": "T_LvQt_vc7e4",
        "outputId": "a11ae409-ccda-4319-a7ce-92d97312b39d"
      },
      "outputs": [
        {
          "name": "stdout",
          "output_type": "stream",
          "text": [
            "Brand: Toyota\n",
            "Toyota car started! Vroom vroom!\n"
          ]
        }
      ],
      "source": [
        "# Create a class Car with a public variable brand and a public method start(). Instantiate the class and access both from outside the class\n",
        "\n",
        "class Car:\n",
        "    def __init__(self, brand):\n",
        "        self.brand = brand  # Public variable\n",
        "\n",
        "    def start(self):  # Public method\n",
        "        print(f\"{self.brand} car started! Vroom vroom!\")\n",
        "\n",
        "# Instantiate the class\n",
        "my_car = Car(\"Toyota\")\n",
        "\n",
        "# Access public variable\n",
        "print(\"Brand:\", my_car.brand)\n",
        "\n",
        "# Call public method\n",
        "my_car.start()"
      ]
    },
    {
      "cell_type": "code",
      "execution_count": null,
      "metadata": {
        "colab": {
          "base_uri": "https://localhost:8080/"
        },
        "id": "42TkMor3dbXi",
        "outputId": "5a331033-5978-4ea8-ebe9-0edb872a2209"
      },
      "outputs": [
        {
          "name": "stdout",
          "output_type": "stream",
          "text": [
            "Before change:\n",
            "Bank1 Name: Habib Bank\n",
            "Bank2 Name: Habib Bank\n",
            "\n",
            "After change:\n",
            "Bank1 Name: Standard Charter\n",
            "Bank2 Name: Standard Charter\n"
          ]
        }
      ],
      "source": [
        "# Create a class Bank with a class variable bank_name. Add a class method change_bank_name(cls, name) that allows changing the bank name. Show that it affects all instances.\n",
        "\n",
        "class Bank:\n",
        "    # Class variable to store the bank name\n",
        "    bank_name = \"Habib Bank\"\n",
        "\n",
        "    @classmethod\n",
        "    def change_bank_name(cls, name):\n",
        "        # Class method to change the bank name\n",
        "        cls.bank_name = name\n",
        "\n",
        "# Creating instances of the Bank class\n",
        "bank1 = Bank()\n",
        "bank2 = Bank()\n",
        "\n",
        "# Before changing the bank name\n",
        "print(\"Before change:\")\n",
        "print(f\"Bank1 Name: {bank1.bank_name}\")\n",
        "print(f\"Bank2 Name: {bank2.bank_name}\")\n",
        "\n",
        "# Changing the bank name using the class method\n",
        "Bank.change_bank_name(\"Standard Charter\")\n",
        "\n",
        "# After changing the bank name\n",
        "print(\"\\nAfter change:\")\n",
        "print(f\"Bank1 Name: {bank1.bank_name}\")\n",
        "print(f\"Bank2 Name: {bank2.bank_name}\")\n",
        "\n"
      ]
    },
    {
      "cell_type": "code",
      "execution_count": null,
      "metadata": {
        "colab": {
          "base_uri": "https://localhost:8080/"
        },
        "id": "6aPayJ7geHCh",
        "outputId": "82e28d10-176d-46f0-eb28-8e60d57e637e"
      },
      "outputs": [
        {
          "name": "stdout",
          "output_type": "stream",
          "text": [
            "Sum: 8\n"
          ]
        }
      ],
      "source": [
        "# Create a class MathUtils with a static method add(a, b) that returns the sum. No class or instance variables should be used.\n",
        "class MathUtils:\n",
        "    @staticmethod\n",
        "    def add(a, b):\n",
        "      return a + b\n",
        "\n",
        "# Usage\n",
        "result = MathUtils.add(5, 3)\n",
        "print(\"Sum:\", result)"
      ]
    },
    {
      "cell_type": "code",
      "execution_count": null,
      "metadata": {
        "colab": {
          "base_uri": "https://localhost:8080/"
        },
        "id": "un2_4Fw5ee1Q",
        "outputId": "0cc31135-dc2e-4946-dd56-4d5d8b2108f4"
      },
      "outputs": [
        {
          "name": "stdout",
          "output_type": "stream",
          "text": [
            "Logger object has been created!\n",
            "Logger object is being destroyed!\n"
          ]
        }
      ],
      "source": [
        "# Assignment:\n",
        "# Create a class Logger that prints a message when an object is created (constructor) and another message when it is destroyed (destructor).\n",
        "\n",
        "\n",
        "class Logger:\n",
        "    # Constructor\n",
        "    def __init__(self):\n",
        "        print(\"Logger object has been created!\")\n",
        "\n",
        "    # Destructor\n",
        "    def __del__(self):\n",
        "        print(\"Logger object is being destroyed!\")\n",
        "\n",
        "# Creating an instance of Logger\n",
        "logger1 = Logger()  # Constructor will be called here\n",
        "\n",
        "# Deleting the object explicitly\n",
        "del logger1  # Destructor will be called here\n",
        "\n",
        "\n"
      ]
    },
    {
      "cell_type": "code",
      "execution_count": null,
      "metadata": {
        "colab": {
          "base_uri": "https://localhost:8080/"
        },
        "id": "YK28_BQGL-di",
        "outputId": "6a069161-b0bf-48c5-f935-4cd680b3cde7"
      },
      "outputs": [
        {
          "name": "stdout",
          "output_type": "stream",
          "text": [
            "Employee Name: Syed Muzaffar\n",
            "Employee Salary: 100000\n",
            "Employee SSN (using name mangling): 123-45-6789\n"
          ]
        }
      ],
      "source": [
        "# Assignment:\n",
        "# Create a class Employee with:\n",
        "\n",
        "# a public variable name,\n",
        "\n",
        "# a protected variable _salary, and\n",
        "\n",
        "# a private variable __ssn.\n",
        "\n",
        "# Try accessing all three variables from an object of the class and document what happens.\n",
        "\n",
        "class Employee:\n",
        "    def __init__(self, name, salary, ssn):\n",
        "        self.name = name\n",
        "        self._salary = salary\n",
        "        self.__ssn = ssn\n",
        "\n",
        "# Create an object of Employee class\n",
        "emp = Employee(\"Syed Muzaffar\", 100000, \"123-45-6789\")\n",
        "\n",
        "# Accessing the public variable 'name'\n",
        "print(f\"Employee Name: {emp.name}\")\n",
        "\n",
        "# Accessing the protected variable '_salary' (not recommended, but possible)\n",
        "print(f\"Employee Salary: {emp._salary}\")\n",
        "\n",
        "# Accessing the private variable '__ssn' will raise an error\n",
        "# print(f\"Employee SSN: {emp.__ssn}\")  # This will raise an AttributeError\n",
        "\n",
        "# Accessing the private variable using name mangling\n",
        "print(f\"Employee SSN (using name mangling): {emp._Employee__ssn}\")"
      ]
    },
    {
      "cell_type": "code",
      "execution_count": null,
      "metadata": {
        "colab": {
          "base_uri": "https://localhost:8080/"
        },
        "id": "HOjXQz2JXAW5",
        "outputId": "a89dccb5-be2a-4b45-d437-7d34ab83e711"
      },
      "outputs": [
        {
          "name": "stdout",
          "output_type": "stream",
          "text": [
            "Teacher Name: Ali\n",
            "Teacher Subject: Mathematics\n"
          ]
        }
      ],
      "source": [
        "# Assignment:\n",
        "# Create a class Person with a constructor that sets the name. Inherit a class Teacher from it, add a subject field, and use super() to call the base class constructor.\n",
        "\n",
        "class Person:\n",
        "  def __init__(self,name):\n",
        "    self.name = name\n",
        "\n",
        "class Teacher(Person):\n",
        "  def __init__(self,name,subject):\n",
        "    super().__init__(name)\n",
        "    self.subject = subject\n",
        "# Create an object of the Teacher class\n",
        "teacher1 = Teacher(\"Ali\", \"Mathematics\")\n",
        "\n",
        "# Accessing attributes of the Teacher object\n",
        "print(f\"Teacher Name: {teacher1.name}\")\n",
        "print(f\"Teacher Subject: {teacher1.subject}\")"
      ]
    },
    {
      "cell_type": "code",
      "execution_count": null,
      "metadata": {
        "colab": {
          "base_uri": "https://localhost:8080/"
        },
        "id": "6C9VdDqMazUh",
        "outputId": "027b592e-4062-47a3-8f89-207c3d0ebb61"
      },
      "outputs": [
        {
          "name": "stdout",
          "output_type": "stream",
          "text": [
            "Area of Rectangle: 15\n"
          ]
        }
      ],
      "source": [
        "# Assignment:\n",
        "# Use the abc module to create an abstract class Shape with an abstract method area(). Inherit a class Rectangle that implements area().\n",
        "\n",
        "from abc import ABC, abstractmethod\n",
        "\n",
        "# Abstract class\n",
        "class Shape(ABC):\n",
        "    @abstractmethod\n",
        "    def area(self):\n",
        "        pass\n",
        "\n",
        "# Derived class\n",
        "class Rectangle(Shape):\n",
        "    def __init__(self, length, width):\n",
        "        self.length = length\n",
        "        self.width = width\n",
        "\n",
        "    def area(self):\n",
        "        # Implementing the area method for Rectangle\n",
        "        return self.length * self.width\n",
        "\n",
        "# Create an object of Rectangle\n",
        "rect = Rectangle(5, 3)\n",
        "\n",
        "# Accessing the area of the rectangle\n",
        "print(f\"Area of Rectangle: {rect.area()}\")"
      ]
    },
    {
      "cell_type": "code",
      "execution_count": null,
      "metadata": {
        "colab": {
          "base_uri": "https://localhost:8080/"
        },
        "id": "PJ66YnC0ceBY",
        "outputId": "111660a1-27d2-480c-d65d-ca93ca86f3d3"
      },
      "outputs": [
        {
          "name": "stdout",
          "output_type": "stream",
          "text": [
            "pup says woof!\n"
          ]
        }
      ],
      "source": [
        "# Assignment:\n",
        "# Create a class Dog with instance variables name and breed. Add an instance method bark() that prints a message including the dog's name.\n",
        "class Dog:\n",
        "    # Constructor to initialize name and breed\n",
        "    def __init__(self, name, breed):\n",
        "        self.name = name\n",
        "        self.breed = breed\n",
        "\n",
        "    # Instance method to make the dog bark\n",
        "    def bark(self):\n",
        "        print(f\"{self.name} says woof!\")\n",
        "\n",
        "# Creating an object of Dog class\n",
        "dog1 = Dog(\"pup\", \"Golden Retriever\")\n",
        "\n",
        "# Calling the bark method\n",
        "dog1.bark()"
      ]
    },
    {
      "cell_type": "code",
      "execution_count": null,
      "metadata": {
        "colab": {
          "base_uri": "https://localhost:8080/"
        },
        "id": "5IS8RjMudvJ5",
        "outputId": "c918e591-5d6e-4264-caa0-18540b0c4b49"
      },
      "outputs": [
        {
          "name": "stdout",
          "output_type": "stream",
          "text": [
            "Total books: 2\n"
          ]
        }
      ],
      "source": [
        "# Assignment:\n",
        "# Create a class Book with a class variable total_books. Add a class method increment_book_count() to increase the count when a new book is added.\n",
        "\n",
        "class Book:\n",
        "    # Class variable to keep track of total number of books\n",
        "    total_books = 0\n",
        "\n",
        "    # Class method to increment the total_books count\n",
        "    @classmethod\n",
        "    def increment_book_count(cls):\n",
        "        cls.total_books += 1\n",
        "\n",
        "# Adding new books\n",
        "book1 = Book()\n",
        "Book.increment_book_count()  # Increment count for book1\n",
        "\n",
        "book2 = Book()\n",
        "Book.increment_book_count()  # Increment count for book2\n",
        "\n",
        "# Accessing the total_books count\n",
        "print(f\"Total books: {Book.total_books}\")\n"
      ]
    },
    {
      "cell_type": "code",
      "execution_count": null,
      "metadata": {
        "colab": {
          "background_save": true
        },
        "id": "3ACzIndgnyJu",
        "outputId": "da1927ab-83ee-419b-adf6-dcc56963e1fa"
      },
      "outputs": [
        {
          "name": "stdout",
          "output_type": "stream",
          "text": [
            "212.0\n"
          ]
        }
      ],
      "source": [
        "# Assignment:\n",
        "# Create a class TemperatureConverter with a static method celsius_to_fahrenheit(c) that returns the Fahrenheit value.\n",
        "class TemperatureConverter:\n",
        "    @staticmethod\n",
        "    def celsius_to_fahrenheit(c):\n",
        "        \"\"\"Convert temperature from Celsius to Fahrenheit.\n",
        "\n",
        "        Args:\n",
        "            c (float): Temperature in Celsius.\n",
        "\n",
        "        Returns:\n",
        "            float: Temperature in Fahrenheit.\n",
        "        \"\"\"\n",
        "        return (c * 9/5) + 32\n",
        "fahrenheit = TemperatureConverter.celsius_to_fahrenheit(100)\n",
        "print(fahrenheit)"
      ]
    },
    {
      "cell_type": "code",
      "execution_count": null,
      "metadata": {
        "id": "bte-GeBvoMjY",
        "colab": {
          "base_uri": "https://localhost:8080/"
        },
        "outputId": "c1b3ac5f-c3af-45c8-ff64-f6528990865d"
      },
      "outputs": [
        {
          "output_type": "stream",
          "name": "stdout",
          "text": [
            "Mustang: V8 engine started\n"
          ]
        }
      ],
      "source": [
        "# Assignment:\n",
        "# Create a class Engine and a class Car. Use composition by passing an Engine object to the Car class during initialization. Access a method of the Engine class via the Car class.\n",
        "class Engine:\n",
        "    def __init__(self, engine_type):\n",
        "        self.engine_type = engine_type\n",
        "\n",
        "    def start(self):\n",
        "        return f\"{self.engine_type} engine started\"\n",
        "\n",
        "class Car:\n",
        "    def __init__(self, model, engine):\n",
        "        self.model = model\n",
        "        self.engine = engine  # Composition: Car contains an Engine\n",
        "\n",
        "    def start_car(self):\n",
        "        # Accessing Engine's method via composition\n",
        "        return f\"{self.model}: {self.engine.start()}\"\n",
        "\n",
        "# Usage\n",
        "v8_engine = Engine(\"V8\")          # Create an Engine instance\n",
        "mustang = Car(\"Mustang\", v8_engine)  # Pass Engine to Car during initialization\n",
        "\n",
        "print(mustang.start_car())\n"
      ]
    },
    {
      "cell_type": "code",
      "source": [
        "# Assignment:\n",
        "# Create a class Department and a class Employee. Use aggregation by having a Department object store a reference to an Employee object that exists independently of it.\n",
        "\n",
        "class Employee:\n",
        "    def __init__(self, name, employee_id):\n",
        "        self.name = name\n",
        "        self.employee_id = employee_id\n",
        "\n",
        "    def get_info(self):\n",
        "        return f\"Employee {self.employee_id}: {self.name}\"\n",
        "\n",
        "class Department:\n",
        "    def __init__(self, name):\n",
        "        self.name = name\n",
        "        self.employees = []  # Aggregation: will store Employee references\n",
        "\n",
        "    def add_employee(self, employee):\n",
        "        self.employees.append(employee)\n",
        "\n",
        "    def list_employees(self):\n",
        "        print(f\"Employees in {self.name} department:\")\n",
        "        for employee in self.employees:\n",
        "            print(f\"- {employee.get_info()}\")\n",
        "\n",
        "\n",
        "# Employees exist independently of departments\n",
        "john = Employee(\"John Doe\", \"E1001\")\n",
        "jane = Employee(\"Jane Smith\", \"E1002\")\n",
        "\n",
        "# Create department\n",
        "hr = Department(\"Human Resources\")\n",
        "\n",
        "# Add existing employees to department (aggregation)\n",
        "hr.add_employee(john)\n",
        "hr.add_employee(jane)\n",
        "\n",
        "hr.list_employees()\n",
        "\n",
        "\n",
        "# Employees continue to exist even if department is deleted\n",
        "del hr\n",
        "print(john.get_info())  # Still works: \"Employee E1001: John Doe\""
      ],
      "metadata": {
        "colab": {
          "base_uri": "https://localhost:8080/"
        },
        "id": "bNk0L2jyGWdq",
        "outputId": "189433d8-996a-40a5-ebdf-d283c653b6e8"
      },
      "execution_count": null,
      "outputs": [
        {
          "output_type": "stream",
          "name": "stdout",
          "text": [
            "Employees in Human Resources department:\n",
            "- Employee E1001: John Doe\n",
            "- Employee E1002: Jane Smith\n",
            "Employee E1001: John Doe\n"
          ]
        }
      ]
    },
    {
      "cell_type": "code",
      "source": [
        "# Assignment:\n",
        "# Create four classes:\n",
        "\n",
        "# A with a method show(),\n",
        "\n",
        "# B and C that inherit from A and override show(),\n",
        "\n",
        "# D that inherits from both B and C.\n",
        "\n",
        "# Create an object of D and call show() to observe MRO.\n",
        "\n",
        "class A:\n",
        "    def show(self):\n",
        "        print(\"A's show()\")\n",
        "\n",
        "class B(A):\n",
        "    def show(self):\n",
        "        print(\"B's show()\")\n",
        "\n",
        "class C(A):\n",
        "    def show(self):\n",
        "        print(\"C's show()\")\n",
        "\n",
        "class D(B, C):\n",
        "    pass\n",
        "\n",
        "# Create object of D\n",
        "d = D()\n",
        "d.show()  # Which show() will be called?\n",
        "\n",
        "# Let's examine the Method Resolution Order (MRO)\n",
        "print(D.mro())"
      ],
      "metadata": {
        "colab": {
          "base_uri": "https://localhost:8080/"
        },
        "id": "818qo19UHz_x",
        "outputId": "7cc913d4-7c57-429e-fa7f-99f7b72eb384"
      },
      "execution_count": null,
      "outputs": [
        {
          "output_type": "stream",
          "name": "stdout",
          "text": [
            "B's show()\n",
            "[<class '__main__.D'>, <class '__main__.B'>, <class '__main__.C'>, <class '__main__.A'>, <class 'object'>]\n"
          ]
        }
      ]
    },
    {
      "cell_type": "code",
      "source": [
        "# Assignment:\n",
        "# Write a decorator function log_function_call that prints \"Function is being called\" before a function executes. Apply it to a function say_hello().\n",
        "\n",
        "def log_function_call(func):\n",
        "    def wrapper(*args, **kwargs):\n",
        "        print(\"Function is being called\")  # Log message before function execution\n",
        "        return func(*args, **kwargs)     # Call the original function\n",
        "    return wrapper\n",
        "\n",
        "# Applying the decorator to a function\n",
        "@log_function_call\n",
        "def say_hello(name):\n",
        "    print(f\"Hello, {name}!\")\n",
        "\n",
        "# Testing the decorated function\n",
        "say_hello(\"Alice\")"
      ],
      "metadata": {
        "colab": {
          "base_uri": "https://localhost:8080/"
        },
        "id": "xiPmTOj8IQeM",
        "outputId": "2a25684c-95fb-44d5-f10b-fe5dbc40a8e9"
      },
      "execution_count": null,
      "outputs": [
        {
          "output_type": "stream",
          "name": "stdout",
          "text": [
            "Function is being called\n",
            "Hello, Alice!\n"
          ]
        }
      ]
    },
    {
      "cell_type": "code",
      "source": [
        "# Assignment:\n",
        "# Create a class decorator add_greeting that modifies a class to add a greet() method returning \"Hello from Decorator!\". Apply it to a class Person.\n",
        "\n",
        "def add_greeting(cls):\n",
        "    # Add a new method to the class\n",
        "    def greet(self):\n",
        "        return \"Hello from Decorator!\"\n",
        "\n",
        "    cls.greet = greet  # Add the method to the class\n",
        "    return cls  # Return the modified class\n",
        "\n",
        "# Applying the decorator to a class\n",
        "@add_greeting\n",
        "class Person:\n",
        "    def __init__(self, name):\n",
        "        self.name = name\n",
        "\n",
        "# Testing the decorated class\n",
        "p = Person(\"Alice\")\n",
        "print(p.greet())  # Calls the added method\n",
        "print(p.name)     # Original functionality remains"
      ],
      "metadata": {
        "colab": {
          "base_uri": "https://localhost:8080/"
        },
        "id": "nLARMQmrJApq",
        "outputId": "2a955767-d6d3-4651-fcb2-8502d70b4c12"
      },
      "execution_count": null,
      "outputs": [
        {
          "output_type": "stream",
          "name": "stdout",
          "text": [
            "Hello from Decorator!\n",
            "Alice\n"
          ]
        }
      ]
    },
    {
      "cell_type": "code",
      "source": [
        "# Assignment:\n",
        "# Create a class Product with a private attribute _price. Use @property to get the price, @price.setter to update it, and @price.deleter to delete it.\n",
        "\n",
        "class Product:\n",
        "    def __init__(self, name, price):\n",
        "        self.name = name\n",
        "        self._price = price  # Private attribute\n",
        "\n",
        "    @property\n",
        "    def price(self):\n",
        "        \"\"\"Getter for price\"\"\"\n",
        "        print(\"Getting price...\")\n",
        "        return self._price\n",
        "\n",
        "    @price.setter\n",
        "    def price(self, value):\n",
        "        \"\"\"Setter for price\"\"\"\n",
        "        print(\"Setting price...\")\n",
        "        if value < 0:\n",
        "            raise ValueError(\"Price cannot be negative\")\n",
        "        self._price = value\n",
        "\n",
        "    @price.deleter\n",
        "    def price(self):\n",
        "        \"\"\"Deleter for price\"\"\"\n",
        "        print(\"Deleting price...\")\n",
        "        del self._price\n",
        "\n",
        "# Demonstration\n",
        "product = Product(\"Laptop\", 999.99)\n",
        "\n",
        "# Using the getter\n",
        "print(f\"Initial price: {product.price}\")  # Calls @property\n",
        "\n",
        "# Using the setter\n",
        "product.price = 899.99  # Calls @price.setter\n",
        "print(f\"Updated price: {product.price}\")\n",
        "\n",
        "# Attempt to set invalid price\n",
        "try:\n",
        "    product.price = -100  # Will raise ValueError\n",
        "except ValueError as e:\n",
        "    print(f\"Error: {e}\")\n",
        "\n",
        "# Using the deleter\n",
        "del product.price  # Calls @price.deleter\n",
        "\n",
        "# Verify deletion\n",
        "try:\n",
        "    print(product.price)\n",
        "except AttributeError as e:\n",
        "    print(f\"Error: {e}\")  # Price attribute was deleted"
      ],
      "metadata": {
        "colab": {
          "base_uri": "https://localhost:8080/"
        },
        "id": "5aHMVbBQJmKG",
        "outputId": "82a80041-914d-445d-ddad-5a88e7ac17d7"
      },
      "execution_count": null,
      "outputs": [
        {
          "output_type": "stream",
          "name": "stdout",
          "text": [
            "Getting price...\n",
            "Initial price: 999.99\n",
            "Setting price...\n",
            "Getting price...\n",
            "Updated price: 899.99\n",
            "Setting price...\n",
            "Error: Price cannot be negative\n",
            "Deleting price...\n",
            "Getting price...\n",
            "Error: 'Product' object has no attribute '_price'\n"
          ]
        }
      ]
    },
    {
      "cell_type": "code",
      "source": [
        "# Assignment:\n",
        "# Create a class Multiplier with an __init__() to set a factor. Define a __call__() method that multiplies an input by the factor. Test it with callable() and by calling the object like a function.\n",
        "\n",
        "class Multiplier:\n",
        "    def __init__(self, factor):\n",
        "        \"\"\"Initialize with a multiplication factor\"\"\"\n",
        "        self.factor = factor\n",
        "\n",
        "    def __call__(self, x):\n",
        "        \"\"\"Make instances callable - multiply input by factor\"\"\"\n",
        "        return x * self.factor\n",
        "\n",
        "# Testing\n",
        "double = Multiplier(2)  # Create multiplier with factor 2\n",
        "triple = Multiplier(3)   # Create multiplier with factor 3\n",
        "\n",
        "# 1. Test with callable()\n",
        "print(\"Is double callable?\", callable(double))  # True\n",
        "\n",
        "# 2. Call the object like a function\n",
        "print(\"Double of 5:\", double(5))    # 10\n",
        "print(\"Triple of 5:\", triple(5))    # 15\n",
        "\n",
        "# 3. Can be used in higher-order functions\n",
        "numbers = [1, 2, 3, 4]\n",
        "doubled = list(map(double, numbers))\n",
        "print(\"Doubled numbers:\", doubled)"
      ],
      "metadata": {
        "colab": {
          "base_uri": "https://localhost:8080/"
        },
        "id": "XvkGTcSLKU_o",
        "outputId": "bc9307ea-3fff-41cf-b8b9-029d3e2deb80"
      },
      "execution_count": null,
      "outputs": [
        {
          "output_type": "stream",
          "name": "stdout",
          "text": [
            "Is double callable? True\n",
            "Double of 5: 10\n",
            "Triple of 5: 15\n",
            "Doubled numbers: [2, 4, 6, 8]\n"
          ]
        }
      ]
    },
    {
      "cell_type": "code",
      "source": [
        "# Assignment:\n",
        "# Create a custom exception InvalidAgeError. Write a function check_age(age) that raises this exception if age < 18. Handle it with try...except.\n",
        "\n",
        "# Define the custom exception\n",
        "class InvalidAgeError(Exception):\n",
        "    \"\"\"Raised when the age is less than 18\"\"\"\n",
        "    pass\n",
        "\n",
        "# Function to check age\n",
        "def check_age(age):\n",
        "    if age < 18:\n",
        "        raise InvalidAgeError(\"Age must be 18 or older\")\n",
        "    print(\"Age is valid - you're 18 or older\")\n",
        "\n",
        "# Test the function with try-except\n",
        "try:\n",
        "    age = int(input(\"Enter your age: \"))\n",
        "    check_age(age)\n",
        "except ValueError:\n",
        "    print(\"Please enter a valid number for age\")\n",
        "except InvalidAgeError as e:\n",
        "    print(f\"Invalid age: {e}\")"
      ],
      "metadata": {
        "colab": {
          "base_uri": "https://localhost:8080/"
        },
        "id": "yXuYJc1YLRXH",
        "outputId": "4aaa9363-3f5f-4903-a34c-d57d617c71e7"
      },
      "execution_count": null,
      "outputs": [
        {
          "output_type": "stream",
          "name": "stdout",
          "text": [
            "Enter your age: 38\n",
            "Age is valid - you're 18 or older\n"
          ]
        }
      ]
    },
    {
      "cell_type": "code",
      "source": [
        "# Assignment:\n",
        "# Create a class Countdown that takes a start number. Implement __iter__() and __next__() to make the object iterable in a for-loop, counting down to 0.\n",
        "\n",
        "class Countdown:\n",
        "    def __init__(self, start):\n",
        "        self.start = start + 1  # We add 1 because we decrement first in __next__\n",
        "\n",
        "    def __iter__(self):\n",
        "        return self\n",
        "\n",
        "    def __next__(self):\n",
        "        self.start -= 1\n",
        "        if self.start < 0:\n",
        "            raise StopIteration\n",
        "        return self.start\n",
        "\n",
        "# Example usage\n",
        "print(\"Countdown from 5:\")\n",
        "for num in Countdown(5):\n",
        "    print(num)"
      ],
      "metadata": {
        "colab": {
          "base_uri": "https://localhost:8080/"
        },
        "id": "_NnVou_6L-xl",
        "outputId": "e544a771-eb9f-4eb6-e472-62982c59a40f"
      },
      "execution_count": null,
      "outputs": [
        {
          "output_type": "stream",
          "name": "stdout",
          "text": [
            "Countdown from 5:\n",
            "5\n",
            "4\n",
            "3\n",
            "2\n",
            "1\n",
            "0\n"
          ]
        }
      ]
    }
  ],
  "metadata": {
    "colab": {
      "provenance": [],
      "authorship_tag": "ABX9TyPRQvMrxaIAxj4ZB3YINKaE",
      "include_colab_link": true
    },
    "kernelspec": {
      "display_name": "Python 3",
      "name": "python3"
    },
    "language_info": {
      "name": "python"
    }
  },
  "nbformat": 4,
  "nbformat_minor": 0
}